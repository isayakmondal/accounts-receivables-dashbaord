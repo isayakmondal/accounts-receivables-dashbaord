{
  "cells": [
    {
      "cell_type": "markdown",
      "metadata": {
        "colab_type": "text",
        "id": "view-in-github"
      },
      "source": [
        "<a href=\"https://colab.research.google.com/github/isayakmondal/highradius-internship/blob/main/python-codes/intro-to-python.ipynb\" target=\"_parent\"><img src=\"https://colab.research.google.com/assets/colab-badge.svg\" alt=\"Open In Colab\"/></a>"
      ]
    },
    {
      "cell_type": "markdown",
      "metadata": {
        "id": "XHJS1uM7OLKZ"
      },
      "source": [
        "Hello World"
      ]
    },
    {
      "cell_type": "code",
      "execution_count": null,
      "metadata": {
        "id": "oHC4ROhGOLKb",
        "outputId": "f0ee2278-bf97-45b2-8f1b-2b604c1364ac"
      },
      "outputs": [
        {
          "name": "stdout",
          "output_type": "stream",
          "text": [
            "Hello World\n"
          ]
        }
      ],
      "source": [
        "print(\"Hello World\")"
      ]
    },
    {
      "cell_type": "markdown",
      "metadata": {
        "id": "mtEoy5E7OLKc"
      },
      "source": [
        "Unique Numbers\n"
      ]
    },
    {
      "cell_type": "code",
      "execution_count": 113,
      "metadata": {
        "id": "N749jfA7OLKd",
        "outputId": "f97e2581-b0a7-4b0a-a074-41c8e13d00fa"
      },
      "outputs": [
        {
          "name": "stdout",
          "output_type": "stream",
          "text": [
            "[2, 9, 1, 6, 3, 7, 8]\n"
          ]
        }
      ],
      "source": [
        "numbers = [2,9,1,6,3,7,6,2,8,7]\n",
        "unique_numbers = []\n",
        "\n",
        "for num in numbers:\n",
        "    if num not in unique_numbers:\n",
        "        unique_numbers.append(num)\n",
        "print(unique_numbers)"
      ]
    },
    {
      "cell_type": "markdown",
      "metadata": {
        "id": "iWdEwdUqn3D3"
      },
      "source": [
        "Map vs Filter\n"
      ]
    },
    {
      "cell_type": "code",
      "execution_count": 7,
      "metadata": {
        "id": "2ecO48spOLKd",
        "outputId": "9b58f137-1966-4506-c6cc-b728c6b5dcfc"
      },
      "outputs": [
        {
          "data": {
            "text/plain": [
              "[True, False, True, False, True, False, True, False, True, False]"
            ]
          },
          "execution_count": 7,
          "metadata": {},
          "output_type": "execute_result"
        }
      ],
      "source": [
        "list(map(lambda var: var%2==0 , range(0,10))) "
      ]
    },
    {
      "cell_type": "code",
      "execution_count": 5,
      "metadata": {
        "colab": {
          "base_uri": "https://localhost:8080/"
        },
        "id": "QrapLbUio8gW",
        "outputId": "fd9487b5-a5dc-4952-a90f-426d7f83a5c7"
      },
      "outputs": [
        {
          "data": {
            "text/plain": [
              "[0, 2, 4, 6, 8]"
            ]
          },
          "execution_count": 5,
          "metadata": {},
          "output_type": "execute_result"
        }
      ],
      "source": [
        "list(filter(lambda var: var%2==0 , range(0,10)))"
      ]
    },
    {
      "cell_type": "code",
      "execution_count": 103,
      "metadata": {},
      "outputs": [],
      "source": [
        "#adding elements to an empty list\n",
        "l = []\n",
        "\n",
        "for i in range(10):\n",
        "    l.append(i);\n"
      ]
    },
    {
      "cell_type": "code",
      "execution_count": 104,
      "metadata": {},
      "outputs": [
        {
          "name": "stdout",
          "output_type": "stream",
          "text": [
            "[0, 1, 2, 3, 4, 5, 6, 7, 8]\n"
          ]
        }
      ],
      "source": [
        "print(l[0:9])"
      ]
    },
    {
      "cell_type": "code",
      "execution_count": 112,
      "metadata": {},
      "outputs": [
        {
          "name": "stdout",
          "output_type": "stream",
          "text": [
            "[9, 10, 8, 8, 5, 2, 9, 3, 10, 6]\n"
          ]
        }
      ],
      "source": [
        "import random\n",
        "a=[]\n",
        "for i in range(10):\n",
        "    a.append(random.randint(1,10))\n",
        "\n",
        "print(a)"
      ]
    }
  ],
  "metadata": {
    "colab": {
      "include_colab_link": true,
      "name": "intro-to-python.ipynb",
      "provenance": []
    },
    "interpreter": {
      "hash": "71309220eab5fd6f9d1da13258c6cc73e195d33e43aa7af04316903d5ea7de4c"
    },
    "kernelspec": {
      "display_name": "Python 3.9.7 64-bit ('base': conda)",
      "language": "python",
      "name": "python3"
    },
    "language_info": {
      "codemirror_mode": {
        "name": "ipython",
        "version": 3
      },
      "file_extension": ".py",
      "mimetype": "text/x-python",
      "name": "python",
      "nbconvert_exporter": "python",
      "pygments_lexer": "ipython3",
      "version": "3.9.7"
    },
    "orig_nbformat": 4
  },
  "nbformat": 4,
  "nbformat_minor": 0
}
