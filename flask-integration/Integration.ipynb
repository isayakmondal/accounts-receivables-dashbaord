{
 "cells": [
  {
   "cell_type": "code",
   "execution_count": 4,
   "id": "8933d4f8",
   "metadata": {},
   "outputs": [
    {
     "name": "stdout",
     "output_type": "stream",
     "text": [
      " * Serving Flask app \"__main__\" (lazy loading)\n",
      " * Environment: production\n",
      "   WARNING: This is a development server. Do not use it in a production deployment.\n",
      "   Use a production WSGI server instead.\n",
      " * Debug mode: off\n"
     ]
    },
    {
     "name": "stderr",
     "output_type": "stream",
     "text": [
      " * Running on http://127.0.0.1:5000/ (Press CTRL+C to quit)\n",
      "127.0.0.1 - - [04/Apr/2022 14:58:22] \"\u001b[37mGET / HTTP/1.1\u001b[0m\" 200 -\n",
      "127.0.0.1 - - [04/Apr/2022 14:58:22] \"\u001b[37mGET /favicon.ico HTTP/1.1\u001b[0m\" 200 -\n"
     ]
    }
   ],
   "source": [
    "from flask import Flask, redirect, url_for, render_template, request,jsonify, make_response\n",
    "import New_Bucket\n",
    "import pandas as pd\n",
    "from flask_cors import CORS\n",
    "\n",
    "data = pd.DataFrame()\n",
    "app = Flask(__name__)\n",
    "CORS(app)\n",
    "\n",
    "@app.route(\"/\",methods=[\"POST\", \"GET\"])\n",
    "def home():\n",
    "    \n",
    "    if request.method == \"POST\":\n",
    "        print(request.json)\n",
    "        business_code = request.json[\"business_code\"]\n",
    "        cust_number = request.json['cust_number']\n",
    "        name_customer = request.json['name_customer']\n",
    "        clear_date = request.json['clear_date']\n",
    "        buisness_year = int(request.json['buisness_year'])\n",
    "        doc_id = int(request.json['doc_id'])\n",
    "        posting_date = request.json['posting_date']\n",
    "        due_in_date = request.json['due_in_date']\n",
    "        baseline_create_date = request.json['baseline_create_date']\n",
    "        cust_payment_terms = request.json['cust_payment_terms']\n",
    "        converted_usd = float(request.json['converted_usd'])\n",
    " \n",
    "        data['business_code'] = [business_code]\n",
    "        data['cust_number'] = [cust_number]\n",
    "        data['name_customer'] = [name_customer]\n",
    "        data['clear_date'] = [clear_date]\n",
    "        data['buisness_year'] = [buisness_year]\n",
    "        data['doc_id'] = [doc_id]\n",
    "        data['posting_date'] =[posting_date]\n",
    "        data['due_in_date'] = [due_in_date]\n",
    "        data['baseline_create_date'] = [baseline_create_date]\n",
    "        data['cust_payment_terms'] = [cust_payment_terms]\n",
    "        data['converted_usd'] = [converted_usd]\n",
    "        \n",
    "        \n",
    "        print(request.json)\n",
    "        \n",
    "       \n",
    "        \n",
    "        response = make_response(jsonify(New_Bucket.predict(data)),200)\n",
    "        response.headers[\"Content-Type\"] = \"application/json\"\n",
    "        return response\n",
    "    else:\n",
    "        return render_template(\"index1.html\")\n",
    "        \n",
    "@app.route(\"/get_prediction\", methods=[\"GET\",'POST'])\n",
    "def get_prediction():    \n",
    "    if request.method == \"POST\":\n",
    "        doc_id_list = list(request.json[\"data\"])\n",
    "        print(doc_id_list)\n",
    "        response = make_response(jsonify(New_Bucket.doc_id_bucket(doc_id_list)),200)\n",
    "        response.headers[\"Access-Control-Allow-Origin\"]=\"*\"\n",
    "        response.headers[\"Content-Type\"] = \"application/json\"\n",
    "        return response\n",
    "    else:\n",
    "        return render_template(\"index2.html\")\n",
    "    \n",
    "\n",
    "@app.route(\"/all\", methods=[\"GET\",'POST'])\n",
    "def alll():    \n",
    "    if request.method == \"POST\":        \n",
    "        response = make_response(jsonify(New_Bucket.alll()),200)       \n",
    "        response.headers[\"Content-Type\"] = \"application/json\"\n",
    "        return response\n",
    "    else:\n",
    "        return render_template(\"index3.html\")    \n",
    "    \n",
    "@app.route(\"/login\", methods=[\"POST\", \"GET\"])\n",
    "def login():\n",
    "    if request.method == \"POST\":\n",
    "        user = request.form[\"nm\"]\n",
    "        return redirect(url_for(\"user\", usr=user))\n",
    "    else:\n",
    "        return render_template(\"login.html\")\n",
    "\n",
    "@app.route(\"/<usr>\")\n",
    "def user(usr):\n",
    "    return f\"<h1>{usr}</h1>\"\n",
    "\n",
    "if __name__ == \"__main__\":\n",
    "    app.run()"
   ]
  },
  {
   "cell_type": "code",
   "execution_count": 3,
   "id": "287fe5bc",
   "metadata": {},
   "outputs": [
    {
     "name": "stdout",
     "output_type": "stream",
     "text": [
      "Collecting flask_cors\n",
      "  Downloading Flask_Cors-3.0.10-py2.py3-none-any.whl (14 kB)\n",
      "Requirement already satisfied: Six in c:\\programdata\\anaconda3\\lib\\site-packages (from flask_cors) (1.15.0)\n",
      "Requirement already satisfied: Flask>=0.9 in c:\\programdata\\anaconda3\\lib\\site-packages (from flask_cors) (1.1.2)\n",
      "Requirement already satisfied: itsdangerous>=0.24 in c:\\programdata\\anaconda3\\lib\\site-packages (from Flask>=0.9->flask_cors) (1.1.0)\n",
      "Requirement already satisfied: Werkzeug>=0.15 in c:\\programdata\\anaconda3\\lib\\site-packages (from Flask>=0.9->flask_cors) (1.0.1)\n",
      "Requirement already satisfied: Jinja2>=2.10.1 in c:\\programdata\\anaconda3\\lib\\site-packages (from Flask>=0.9->flask_cors) (2.11.3)\n",
      "Requirement already satisfied: click>=5.1 in c:\\programdata\\anaconda3\\lib\\site-packages (from Flask>=0.9->flask_cors) (7.1.2)\n",
      "Requirement already satisfied: MarkupSafe>=0.23 in c:\\programdata\\anaconda3\\lib\\site-packages (from Jinja2>=2.10.1->Flask>=0.9->flask_cors) (1.1.1)\n",
      "Installing collected packages: flask-cors\n",
      "Successfully installed flask-cors-3.0.10\n"
     ]
    }
   ],
   "source": [
    "!pip install flask_cors"
   ]
  },
  {
   "cell_type": "code",
   "execution_count": null,
   "id": "00d885e9",
   "metadata": {},
   "outputs": [],
   "source": []
  }
 ],
 "metadata": {
  "kernelspec": {
   "display_name": "Python 3",
   "language": "python",
   "name": "python3"
  }
 },
 "nbformat": 4,
 "nbformat_minor": 5
}
